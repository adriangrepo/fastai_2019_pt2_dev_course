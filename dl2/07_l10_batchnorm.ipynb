{
 "cells": [
  {
   "cell_type": "code",
   "execution_count": 20,
   "metadata": {},
   "outputs": [
    {
     "name": "stdout",
     "output_type": "stream",
     "text": [
      "The autoreload extension is already loaded. To reload it, use:\n",
      "  %reload_ext autoreload\n"
     ]
    }
   ],
   "source": [
    "%load_ext autoreload\n",
    "%autoreload 2\n",
    "\n",
    "%matplotlib inline"
   ]
  },
  {
   "cell_type": "code",
   "execution_count": 21,
   "metadata": {},
   "outputs": [],
   "source": [
    "#export\n",
    "from utils.nb_functions import *\n",
    "from utils.nb_classes_l8_to_10 import *\n",
    "from utils.nb_classes_l10_revised import *\n",
    "from utils.nb_classes_cnn import *"
   ]
  },
  {
   "cell_type": "markdown",
   "metadata": {},
   "source": [
    "Batchnorm paper:\n",
    "    \n",
    "https://arxiv.org/pdf/1502.03167.pdf"
   ]
  },
  {
   "cell_type": "markdown",
   "metadata": {},
   "source": [
    "Activations: Things we calculate\n",
    "    \n",
    "Parameters: Things we learn"
   ]
  },
  {
   "cell_type": "markdown",
   "metadata": {},
   "source": [
    "## ConvNet"
   ]
  },
  {
   "cell_type": "markdown",
   "metadata": {},
   "source": [
    "Let's get the data and training interface from where we left in the last notebook."
   ]
  },
  {
   "cell_type": "code",
   "execution_count": 22,
   "metadata": {},
   "outputs": [],
   "source": [
    "x_train,y_train,x_valid,y_valid = get_data()\n",
    "\n",
    "x_train,x_valid = normalize_to(x_train,x_valid)\n",
    "train_ds,valid_ds = Dataset(x_train, y_train),Dataset(x_valid, y_valid)\n",
    "\n",
    "nh,bs = 50,512\n",
    "c = y_train.max().item()+1\n",
    "loss_func = F.cross_entropy\n",
    "\n",
    "data = DataBunch(*get_dls(train_ds, valid_ds, bs), c)"
   ]
  },
  {
   "cell_type": "code",
   "execution_count": 23,
   "metadata": {},
   "outputs": [],
   "source": [
    "mnist_view = view_tfm(1,28,28)\n",
    "cbfs = [Recorder,\n",
    "        partial(AvgStatsCallback,accuracy),\n",
    "        CudaCallback,\n",
    "        partial(BatchTransformXCallback, mnist_view)]"
   ]
  },
  {
   "cell_type": "code",
   "execution_count": 24,
   "metadata": {},
   "outputs": [],
   "source": [
    "nfs = [8,16,32,64,64]"
   ]
  },
  {
   "cell_type": "code",
   "execution_count": 25,
   "metadata": {},
   "outputs": [],
   "source": [
    "learn,run = get_learn_run(nfs, data, 0.4, conv_layer, cbs=cbfs)"
   ]
  },
  {
   "cell_type": "code",
   "execution_count": 26,
   "metadata": {},
   "outputs": [
    {
     "name": "stdout",
     "output_type": "stream",
     "text": [
      "train: [1.1317153125, tensor(0.6313, device='cuda:0')]\n",
      "valid: [0.210667431640625, tensor(0.9403, device='cuda:0')]\n",
      "train: [0.25396736328125, tensor(0.9261, device='cuda:0')]\n",
      "valid: [0.14252308349609374, tensor(0.9569, device='cuda:0')]\n",
      "CPU times: user 1.97 s, sys: 128 ms, total: 2.1 s\n",
      "Wall time: 1.99 s\n"
     ]
    }
   ],
   "source": [
    "%time run.fit(2, learn)"
   ]
  },
  {
   "cell_type": "markdown",
   "metadata": {},
   "source": [
    "## Batchnorm"
   ]
  },
  {
   "cell_type": "markdown",
   "metadata": {},
   "source": [
    "### Custom"
   ]
  },
  {
   "cell_type": "markdown",
   "metadata": {},
   "source": [
    "Let's start by building our own `BatchNorm` layer from scratch.\n",
    "\n",
    "NB\n",
    "\n",
    "If keepdim is True, the output tensor is of the same size as input except in the dimension dim where it is of size 1. Otherwise, dim is squeezed (see torch.squeeze()), resulting in the output tensor having 1 fewer dimension than input."
   ]
  },
  {
   "cell_type": "code",
   "execution_count": 27,
   "metadata": {},
   "outputs": [],
   "source": [
    "class BatchNorm(nn.Module):\n",
    "    \n",
    "    def __init__(self, nf, mom=0.1, eps=1e-5):\n",
    "        super().__init__()\n",
    "        self.start = True\n",
    "        # NB: pytorch bn mom is opposite of what you'd expect\n",
    "        self.mom,self.eps = mom,eps\n",
    "        self.mults = nn.Parameter(torch.ones (nf,1,1))\n",
    "        self.adds  = nn.Parameter(torch.zeros(nf,1,1))\n",
    "        #this creates a self.vars, but if registered moves to GPU when move model to GPU\n",
    "        #plus we need at interence - are saved\n",
    "        self.register_buffer('vars',  torch.ones(1,nf,1,1))\n",
    "        self.register_buffer('means', torch.zeros(1,nf,1,1))\n",
    "\n",
    "    def update_stats(self, x):\n",
    "        #why (0,2,3)? - as we average over all batches and x and y coords \n",
    "        #- leaving out number of filters - ie mean for each channel/filter\n",
    "        #keepdim=True - leave an empty unit axis in positions 0,2,3 so still broadcasts\n",
    "        m = x.mean((0,2,3), keepdim=True)\n",
    "        v = x.var ((0,2,3), keepdim=True)\n",
    "        #keep an ewma of means and variances\n",
    "        #lerp = linear interpolation, we really mean 1-mom\n",
    "        self.means.lerp_(m, self.mom)\n",
    "        self.vars.lerp_ (v, self.mom)\n",
    "        return m,v\n",
    "        \n",
    "    def forward(self, x):\n",
    "        if self.start:\n",
    "            print(f'>>forward x.shape: {x.shape}')\n",
    "            self.start=False\n",
    "        if self.training:\n",
    "            with torch.no_grad(): m,v = self.update_stats(x)\n",
    "        else: \n",
    "            #use running average means and variances\n",
    "            m,v = self.means,self.vars\n",
    "        x = (x-m) / (v+self.eps).sqrt()\n",
    "        #gamma = mults, beta = adds\n",
    "        return x*self.mults + self.adds"
   ]
  },
  {
   "cell_type": "code",
   "execution_count": 28,
   "metadata": {},
   "outputs": [],
   "source": [
    "def conv_layer(ni, nf, ks=3, stride=2, bn=True, **kwargs):\n",
    "    # No bias needed if using bn - beta (adds) acts as a bias\n",
    "    layers = [nn.Conv2d(ni, nf, ks, padding=ks//2, stride=stride, bias=not bn),\n",
    "              GeneralRelu(**kwargs)]\n",
    "    if bn: \n",
    "        layers.append(BatchNorm(nf))\n",
    "    return nn.Sequential(*layers)"
   ]
  },
  {
   "cell_type": "code",
   "execution_count": 29,
   "metadata": {},
   "outputs": [],
   "source": [
    "#export\n",
    "def init_cnn_(m, f):\n",
    "    print(f'init_cnn_')\n",
    "    if isinstance(m, nn.Conv2d):\n",
    "        print(f'init_cnn_ nn.Conv2d model')\n",
    "        f(m.weight, a=0.1)\n",
    "        if getattr(m, 'bias', None) is not None: \n",
    "            m.bias.data.zero_()\n",
    "    for l in m.children(): \n",
    "        init_cnn_(l, f)\n",
    "\n",
    "def init_cnn(m, uniform=False):\n",
    "    print(f'init_cnn uniform: {uniform}')\n",
    "    f = init.kaiming_uniform_ if uniform else init.kaiming_normal_\n",
    "    init_cnn_(m, f)\n",
    "\n",
    "def get_learn_run(nfs, data, lr, layer, cbs=None, opt_func=None, uniform=False, **kwargs):\n",
    "    model = get_cnn_model(data, nfs, layer, **kwargs)\n",
    "    print(f'get_learn_run model: {model}')\n",
    "    init_cnn(model, uniform=uniform)\n",
    "    return get_runner(model, data, lr=lr, cbs=cbs, opt_func=opt_func)"
   ]
  },
  {
   "cell_type": "markdown",
   "metadata": {},
   "source": [
    "We can then use it in training and see how it helps keep the activations means to 0 and the std to 1."
   ]
  },
  {
   "cell_type": "code",
   "execution_count": 30,
   "metadata": {},
   "outputs": [
    {
     "name": "stdout",
     "output_type": "stream",
     "text": [
      "get_learn_run model: Sequential(\n",
      "  (0): Sequential(\n",
      "    (0): Conv2d(1, 8, kernel_size=(5, 5), stride=(2, 2), padding=(2, 2), bias=False)\n",
      "    (1): GeneralRelu()\n",
      "    (2): BatchNorm()\n",
      "  )\n",
      "  (1): Sequential(\n",
      "    (0): Conv2d(8, 16, kernel_size=(3, 3), stride=(2, 2), padding=(1, 1), bias=False)\n",
      "    (1): GeneralRelu()\n",
      "    (2): BatchNorm()\n",
      "  )\n",
      "  (2): Sequential(\n",
      "    (0): Conv2d(16, 32, kernel_size=(3, 3), stride=(2, 2), padding=(1, 1), bias=False)\n",
      "    (1): GeneralRelu()\n",
      "    (2): BatchNorm()\n",
      "  )\n",
      "  (3): Sequential(\n",
      "    (0): Conv2d(32, 64, kernel_size=(3, 3), stride=(2, 2), padding=(1, 1), bias=False)\n",
      "    (1): GeneralRelu()\n",
      "    (2): BatchNorm()\n",
      "  )\n",
      "  (4): Sequential(\n",
      "    (0): Conv2d(64, 64, kernel_size=(3, 3), stride=(2, 2), padding=(1, 1), bias=False)\n",
      "    (1): GeneralRelu()\n",
      "    (2): BatchNorm()\n",
      "  )\n",
      "  (5): AdaptiveAvgPool2d(output_size=1)\n",
      "  (6): Lambda()\n",
      "  (7): Linear(in_features=64, out_features=10, bias=True)\n",
      ")\n",
      "init_cnn uniform: False\n",
      "init_cnn_\n",
      "init_cnn_\n",
      "init_cnn_\n",
      "init_cnn_ nn.Conv2d model\n",
      "init_cnn_\n",
      "init_cnn_\n",
      "init_cnn_\n",
      "init_cnn_\n",
      "init_cnn_ nn.Conv2d model\n",
      "init_cnn_\n",
      "init_cnn_\n",
      "init_cnn_\n",
      "init_cnn_\n",
      "init_cnn_ nn.Conv2d model\n",
      "init_cnn_\n",
      "init_cnn_\n",
      "init_cnn_\n",
      "init_cnn_\n",
      "init_cnn_ nn.Conv2d model\n",
      "init_cnn_\n",
      "init_cnn_\n",
      "init_cnn_\n",
      "init_cnn_\n",
      "init_cnn_ nn.Conv2d model\n",
      "init_cnn_\n",
      "init_cnn_\n",
      "init_cnn_\n",
      "init_cnn_\n",
      "init_cnn_\n"
     ]
    }
   ],
   "source": [
    "learn,run = get_learn_run(nfs, data, 0.9, conv_layer, cbs=cbfs)"
   ]
  },
  {
   "cell_type": "code",
   "execution_count": 31,
   "metadata": {},
   "outputs": [
    {
     "name": "stdout",
     "output_type": "stream",
     "text": [
      ">>forward x.shape: torch.Size([512, 8, 14, 14])\n",
      ">>forward x.shape: torch.Size([512, 16, 7, 7])\n",
      ">>forward x.shape: torch.Size([512, 32, 4, 4])\n",
      ">>forward x.shape: torch.Size([512, 64, 2, 2])\n",
      ">>forward x.shape: torch.Size([512, 64, 1, 1])\n",
      "train: [0.27892296875, tensor(0.9131, device='cuda:0')]\n",
      "valid: [0.1334531005859375, tensor(0.9586, device='cuda:0')]\n"
     ]
    },
    {
     "data": {
      "image/png": "[encoded data removed]",
      "text/plain": [
       "<Figure size 720x288 with 2 Axes>"
      ]
     },
     "metadata": {
      "needs_background": "light"
     },
     "output_type": "display_data"
    },
    {
     "data": {
      "image/png": "[encoded data removed]",
      "text/plain": [
       "<Figure size 720x288 with 2 Axes>"
      ]
     },
     "metadata": {
      "needs_background": "light"
     },
     "output_type": "display_data"
    }
   ],
   "source": [
    "with Hooks(learn.model, append_stats) as hooks:\n",
    "    run.fit(1, learn)\n",
    "    fig,(ax0,ax1) = plt.subplots(1,2, figsize=(10,4))\n",
    "    for h in hooks[:-1]:\n",
    "        ms,ss = h.stats\n",
    "        ax0.plot(ms[:10])\n",
    "        ax1.plot(ss[:10])\n",
    "    plt.legend(range(6));\n",
    "    \n",
    "    fig,(ax0,ax1) = plt.subplots(1,2, figsize=(10,4))\n",
    "    for h in hooks[:-1]:\n",
    "        ms,ss = h.stats\n",
    "        ax0.plot(ms)\n",
    "        ax1.plot(ss)"
   ]
  },
  {
   "cell_type": "code",
   "execution_count": 13,
   "metadata": {},
   "outputs": [],
   "source": [
    "learn,run = get_learn_run(nfs, data, 1.0, conv_layer, cbs=cbfs)"
   ]
  },
  {
   "cell_type": "code",
   "execution_count": 14,
   "metadata": {},
   "outputs": [
    {
     "name": "stdout",
     "output_type": "stream",
     "text": [
      "train: [0.2617764453125, tensor(0.9182, device='cuda:0')]\n",
      "valid: [0.16896717529296876, tensor(0.9449, device='cuda:0')]\n",
      "train: [0.08557880859375, tensor(0.9742, device='cuda:0')]\n",
      "valid: [0.09999280395507812, tensor(0.9693, device='cuda:0')]\n",
      "train: [0.0632315234375, tensor(0.9810, device='cuda:0')]\n",
      "valid: [0.13902763671875, tensor(0.9584, device='cuda:0')]\n",
      "CPU times: user 3.2 s, sys: 62.1 ms, total: 3.26 s\n",
      "Wall time: 3.27 s\n"
     ]
    }
   ],
   "source": [
    "%time run.fit(3, learn)"
   ]
  },
  {
   "cell_type": "markdown",
   "metadata": {},
   "source": [
    "### Builtin batchnorm"
   ]
  },
  {
   "cell_type": "code",
   "execution_count": 32,
   "metadata": {},
   "outputs": [],
   "source": [
    "#export\n",
    "def conv_layer(ni, nf, ks=3, stride=2, bn=True, **kwargs):\n",
    "    layers = [nn.Conv2d(ni, nf, ks, padding=ks//2, stride=stride, bias=not bn),\n",
    "              GeneralRelu(**kwargs)]\n",
    "    if bn: layers.append(nn.BatchNorm2d(nf, eps=1e-5, momentum=0.1))\n",
    "    return nn.Sequential(*layers)"
   ]
  },
  {
   "cell_type": "code",
   "execution_count": 33,
   "metadata": {},
   "outputs": [
    {
     "name": "stdout",
     "output_type": "stream",
     "text": [
      "get_learn_run model: Sequential(\n",
      "  (0): Sequential(\n",
      "    (0): Conv2d(1, 8, kernel_size=(5, 5), stride=(2, 2), padding=(2, 2), bias=False)\n",
      "    (1): GeneralRelu()\n",
      "    (2): BatchNorm2d(8, eps=1e-05, momentum=0.1, affine=True, track_running_stats=True)\n",
      "  )\n",
      "  (1): Sequential(\n",
      "    (0): Conv2d(8, 16, kernel_size=(3, 3), stride=(2, 2), padding=(1, 1), bias=False)\n",
      "    (1): GeneralRelu()\n",
      "    (2): BatchNorm2d(16, eps=1e-05, momentum=0.1, affine=True, track_running_stats=True)\n",
      "  )\n",
      "  (2): Sequential(\n",
      "    (0): Conv2d(16, 32, kernel_size=(3, 3), stride=(2, 2), padding=(1, 1), bias=False)\n",
      "    (1): GeneralRelu()\n",
      "    (2): BatchNorm2d(32, eps=1e-05, momentum=0.1, affine=True, track_running_stats=True)\n",
      "  )\n",
      "  (3): Sequential(\n",
      "    (0): Conv2d(32, 64, kernel_size=(3, 3), stride=(2, 2), padding=(1, 1), bias=False)\n",
      "    (1): GeneralRelu()\n",
      "    (2): BatchNorm2d(64, eps=1e-05, momentum=0.1, affine=True, track_running_stats=True)\n",
      "  )\n",
      "  (4): Sequential(\n",
      "    (0): Conv2d(64, 64, kernel_size=(3, 3), stride=(2, 2), padding=(1, 1), bias=False)\n",
      "    (1): GeneralRelu()\n",
      "    (2): BatchNorm2d(64, eps=1e-05, momentum=0.1, affine=True, track_running_stats=True)\n",
      "  )\n",
      "  (5): AdaptiveAvgPool2d(output_size=1)\n",
      "  (6): Lambda()\n",
      "  (7): Linear(in_features=64, out_features=10, bias=True)\n",
      ")\n",
      "init_cnn uniform: False\n",
      "init_cnn_\n",
      "init_cnn_\n",
      "init_cnn_\n",
      "init_cnn_ nn.Conv2d model\n",
      "init_cnn_\n",
      "init_cnn_\n",
      "init_cnn_\n",
      "init_cnn_\n",
      "init_cnn_ nn.Conv2d model\n",
      "init_cnn_\n",
      "init_cnn_\n",
      "init_cnn_\n",
      "init_cnn_\n",
      "init_cnn_ nn.Conv2d model\n",
      "init_cnn_\n",
      "init_cnn_\n",
      "init_cnn_\n",
      "init_cnn_\n",
      "init_cnn_ nn.Conv2d model\n",
      "init_cnn_\n",
      "init_cnn_\n",
      "init_cnn_\n",
      "init_cnn_\n",
      "init_cnn_ nn.Conv2d model\n",
      "init_cnn_\n",
      "init_cnn_\n",
      "init_cnn_\n",
      "init_cnn_\n",
      "init_cnn_\n"
     ]
    }
   ],
   "source": [
    "learn,run = get_learn_run(nfs, data, 1., conv_layer, cbs=cbfs)"
   ]
  },
  {
   "cell_type": "code",
   "execution_count": 34,
   "metadata": {},
   "outputs": [
    {
     "name": "stdout",
     "output_type": "stream",
     "text": [
      "train: [0.27626384765625, tensor(0.9154, device='cuda:0')]\n",
      "valid: [0.09258320922851562, tensor(0.9729, device='cuda:0')]\n",
      "train: [0.074140078125, tensor(0.9771, device='cuda:0')]\n",
      "valid: [0.06982023315429688, tensor(0.9800, device='cuda:0')]\n",
      "train: [0.052102431640625, tensor(0.9838, device='cuda:0')]\n",
      "valid: [0.13512681884765626, tensor(0.9596, device='cuda:0')]\n",
      "CPU times: user 3.12 s, sys: 85.2 ms, total: 3.21 s\n",
      "Wall time: 3.21 s\n"
     ]
    }
   ],
   "source": [
    "%time run.fit(3, learn)"
   ]
  },
  {
   "cell_type": "markdown",
   "metadata": {},
   "source": [
    "### With scheduler"
   ]
  },
  {
   "cell_type": "markdown",
   "metadata": {},
   "source": [
    "Now let's add the usual warm-up/annealing.\n",
    "\n",
    "go up to lr=2!"
   ]
  },
  {
   "cell_type": "code",
   "execution_count": 38,
   "metadata": {},
   "outputs": [],
   "source": [
    "sched = combine_scheds([0.3, 0.7], [sched_lin(0.6, 2.), sched_lin(2., 0.1)]) "
   ]
  },
  {
   "cell_type": "code",
   "execution_count": 39,
   "metadata": {},
   "outputs": [
    {
     "name": "stdout",
     "output_type": "stream",
     "text": [
      "get_learn_run model: Sequential(\n",
      "  (0): Sequential(\n",
      "    (0): Conv2d(1, 8, kernel_size=(5, 5), stride=(2, 2), padding=(2, 2), bias=False)\n",
      "    (1): GeneralRelu()\n",
      "    (2): BatchNorm2d(8, eps=1e-05, momentum=0.1, affine=True, track_running_stats=True)\n",
      "  )\n",
      "  (1): Sequential(\n",
      "    (0): Conv2d(8, 16, kernel_size=(3, 3), stride=(2, 2), padding=(1, 1), bias=False)\n",
      "    (1): GeneralRelu()\n",
      "    (2): BatchNorm2d(16, eps=1e-05, momentum=0.1, affine=True, track_running_stats=True)\n",
      "  )\n",
      "  (2): Sequential(\n",
      "    (0): Conv2d(16, 32, kernel_size=(3, 3), stride=(2, 2), padding=(1, 1), bias=False)\n",
      "    (1): GeneralRelu()\n",
      "    (2): BatchNorm2d(32, eps=1e-05, momentum=0.1, affine=True, track_running_stats=True)\n",
      "  )\n",
      "  (3): Sequential(\n",
      "    (0): Conv2d(32, 64, kernel_size=(3, 3), stride=(2, 2), padding=(1, 1), bias=False)\n",
      "    (1): GeneralRelu()\n",
      "    (2): BatchNorm2d(64, eps=1e-05, momentum=0.1, affine=True, track_running_stats=True)\n",
      "  )\n",
      "  (4): Sequential(\n",
      "    (0): Conv2d(64, 64, kernel_size=(3, 3), stride=(2, 2), padding=(1, 1), bias=False)\n",
      "    (1): GeneralRelu()\n",
      "    (2): BatchNorm2d(64, eps=1e-05, momentum=0.1, affine=True, track_running_stats=True)\n",
      "  )\n",
      "  (5): AdaptiveAvgPool2d(output_size=1)\n",
      "  (6): Lambda()\n",
      "  (7): Linear(in_features=64, out_features=10, bias=True)\n",
      ")\n",
      "init_cnn uniform: False\n",
      "init_cnn_\n",
      "init_cnn_\n",
      "init_cnn_\n",
      "init_cnn_ nn.Conv2d model\n",
      "init_cnn_\n",
      "init_cnn_\n",
      "init_cnn_\n",
      "init_cnn_\n",
      "init_cnn_ nn.Conv2d model\n",
      "init_cnn_\n",
      "init_cnn_\n",
      "init_cnn_\n",
      "init_cnn_\n",
      "init_cnn_ nn.Conv2d model\n",
      "init_cnn_\n",
      "init_cnn_\n",
      "init_cnn_\n",
      "init_cnn_\n",
      "init_cnn_ nn.Conv2d model\n",
      "init_cnn_\n",
      "init_cnn_\n",
      "init_cnn_\n",
      "init_cnn_\n",
      "init_cnn_ nn.Conv2d model\n",
      "init_cnn_\n",
      "init_cnn_\n",
      "init_cnn_\n",
      "init_cnn_\n",
      "init_cnn_\n"
     ]
    }
   ],
   "source": [
    "learn,run = get_learn_run(nfs, data, 0.9, conv_layer, cbs=cbfs\n",
    "                          +[partial(ParamScheduler,'lr', sched)])"
   ]
  },
  {
   "cell_type": "code",
   "execution_count": 40,
   "metadata": {},
   "outputs": [
    {
     "name": "stdout",
     "output_type": "stream",
     "text": [
      "train: [0.3119979296875, tensor(0.9080, device='cuda:0')]\n",
      "valid: [0.12668673095703126, tensor(0.9620, device='cuda:0')]\n",
      "train: [0.0939505859375, tensor(0.9714, device='cuda:0')]\n",
      "valid: [0.08104552001953125, tensor(0.9762, device='cuda:0')]\n",
      "train: [0.064883095703125, tensor(0.9800, device='cuda:0')]\n",
      "valid: [0.09739081420898438, tensor(0.9700, device='cuda:0')]\n",
      "train: [0.0412028271484375, tensor(0.9869, device='cuda:0')]\n",
      "valid: [0.05917807006835937, tensor(0.9824, device='cuda:0')]\n",
      "train: [0.0277890234375, tensor(0.9913, device='cuda:0')]\n",
      "valid: [0.05214029541015625, tensor(0.9853, device='cuda:0')]\n",
      "train: [0.017841971435546874, tensor(0.9947, device='cuda:0')]\n",
      "valid: [0.04994527893066406, tensor(0.9863, device='cuda:0')]\n",
      "train: [0.010853658447265624, tensor(0.9971, device='cuda:0')]\n",
      "valid: [0.049679000854492186, tensor(0.9865, device='cuda:0')]\n",
      "train: [0.0073020556640625, tensor(0.9987, device='cuda:0')]\n",
      "valid: [0.04894173278808594, tensor(0.9866, device='cuda:0')]\n"
     ]
    }
   ],
   "source": [
    "run.fit(8, learn)"
   ]
  },
  {
   "cell_type": "markdown",
   "metadata": {},
   "source": [
    "## More norms"
   ]
  },
  {
   "cell_type": "markdown",
   "metadata": {},
   "source": [
    "### Layer norm"
   ]
  },
  {
   "cell_type": "markdown",
   "metadata": {},
   "source": [
    "From [the paper](https://arxiv.org/abs/1607.06450): \"*batch normalization cannot be applied to online learning tasks or to extremely large distributed models where the minibatches have to be small*\"."
   ]
  },
  {
   "cell_type": "markdown",
   "metadata": {},
   "source": [
    "General equation for a norm layer with learnable affine:\n",
    "\n",
    "$$y = \\frac{x - \\mathrm{E}[x]}{ \\sqrt{\\mathrm{Var}[x] + \\epsilon}} * \\gamma + \\beta$$\n",
    "\n",
    "The difference with BatchNorm is\n",
    "1. we don't keep a moving average\n",
    "2. we don't average over the batches dimension but over the hidden dimension, so it's independent of the batch size"
   ]
  },
  {
   "cell_type": "code",
   "execution_count": 42,
   "metadata": {},
   "outputs": [],
   "source": [
    "class LayerNorm(nn.Module):\n",
    "    __constants__ = ['eps']\n",
    "    def __init__(self, eps=1e-5):\n",
    "        super().__init__()\n",
    "        self.eps = eps\n",
    "        self.mult = nn.Parameter(tensor(1.))\n",
    "        self.add  = nn.Parameter(tensor(0.))\n",
    "\n",
    "    def forward(self, x):\n",
    "        #intead of mean over all batches for a filter (0,2,3)\n",
    "        #we we do (1,2,3) -average over channel, x,y for each image individually\n",
    "        #and dont need running averages over a batch\n",
    "        #as every image has itas won mean and std dev\n",
    "        m = x.mean((1,2,3), keepdim=True)\n",
    "        v = x.var ((1,2,3), keepdim=True)\n",
    "        x = (x-m) / ((v+self.eps).sqrt())\n",
    "        return x*self.mult + self.add"
   ]
  },
  {
   "cell_type": "code",
   "execution_count": 43,
   "metadata": {},
   "outputs": [],
   "source": [
    "def conv_ln(ni, nf, ks=3, stride=2, bn=True, **kwargs):\n",
    "    layers = [nn.Conv2d(ni, nf, ks, padding=ks//2, stride=stride, bias=True),\n",
    "              GeneralRelu(**kwargs)]\n",
    "    if bn: layers.append(LayerNorm())\n",
    "    return nn.Sequential(*layers)"
   ]
  },
  {
   "cell_type": "code",
   "execution_count": 44,
   "metadata": {},
   "outputs": [
    {
     "name": "stdout",
     "output_type": "stream",
     "text": [
      "get_learn_run model: Sequential(\n",
      "  (0): Sequential(\n",
      "    (0): Conv2d(1, 8, kernel_size=(5, 5), stride=(2, 2), padding=(2, 2))\n",
      "    (1): GeneralRelu()\n",
      "    (2): LayerNorm()\n",
      "  )\n",
      "  (1): Sequential(\n",
      "    (0): Conv2d(8, 16, kernel_size=(3, 3), stride=(2, 2), padding=(1, 1))\n",
      "    (1): GeneralRelu()\n",
      "    (2): LayerNorm()\n",
      "  )\n",
      "  (2): Sequential(\n",
      "    (0): Conv2d(16, 32, kernel_size=(3, 3), stride=(2, 2), padding=(1, 1))\n",
      "    (1): GeneralRelu()\n",
      "    (2): LayerNorm()\n",
      "  )\n",
      "  (3): Sequential(\n",
      "    (0): Conv2d(32, 64, kernel_size=(3, 3), stride=(2, 2), padding=(1, 1))\n",
      "    (1): GeneralRelu()\n",
      "    (2): LayerNorm()\n",
      "  )\n",
      "  (4): Sequential(\n",
      "    (0): Conv2d(64, 64, kernel_size=(3, 3), stride=(2, 2), padding=(1, 1))\n",
      "    (1): GeneralRelu()\n",
      "    (2): LayerNorm()\n",
      "  )\n",
      "  (5): AdaptiveAvgPool2d(output_size=1)\n",
      "  (6): Lambda()\n",
      "  (7): Linear(in_features=64, out_features=10, bias=True)\n",
      ")\n",
      "init_cnn uniform: False\n",
      "init_cnn_\n",
      "init_cnn_\n",
      "init_cnn_\n",
      "init_cnn_ nn.Conv2d model\n",
      "init_cnn_\n",
      "init_cnn_\n",
      "init_cnn_\n",
      "init_cnn_\n",
      "init_cnn_ nn.Conv2d model\n",
      "init_cnn_\n",
      "init_cnn_\n",
      "init_cnn_\n",
      "init_cnn_\n",
      "init_cnn_ nn.Conv2d model\n",
      "init_cnn_\n",
      "init_cnn_\n",
      "init_cnn_\n",
      "init_cnn_\n",
      "init_cnn_ nn.Conv2d model\n",
      "init_cnn_\n",
      "init_cnn_\n",
      "init_cnn_\n",
      "init_cnn_\n",
      "init_cnn_ nn.Conv2d model\n",
      "init_cnn_\n",
      "init_cnn_\n",
      "init_cnn_\n",
      "init_cnn_\n",
      "init_cnn_\n"
     ]
    }
   ],
   "source": [
    "learn,run = get_learn_run(nfs, data, 0.8, conv_ln, cbs=cbfs)"
   ]
  },
  {
   "cell_type": "code",
   "execution_count": 45,
   "metadata": {},
   "outputs": [
    {
     "name": "stdout",
     "output_type": "stream",
     "text": [
      "train: [nan, tensor(0.1229, device='cuda:0')]\n",
      "valid: [nan, tensor(0.0991, device='cuda:0')]\n",
      "train: [nan, tensor(0.0986, device='cuda:0')]\n",
      "valid: [nan, tensor(0.0991, device='cuda:0')]\n",
      "train: [nan, tensor(0.0986, device='cuda:0')]\n",
      "valid: [nan, tensor(0.0991, device='cuda:0')]\n",
      "CPU times: user 4.77 s, sys: 40.2 ms, total: 4.81 s\n",
      "Wall time: 4.82 s\n"
     ]
    }
   ],
   "source": [
    "%time run.fit(3, learn)"
   ]
  },
  {
   "cell_type": "markdown",
   "metadata": {},
   "source": [
    "*Thought experiment*: can this distinguish foggy days from sunny days (assuming you're using it before the first conv)?"
   ]
  },
  {
   "cell_type": "markdown",
   "metadata": {},
   "source": [
    "### Instance norm"
   ]
  },
  {
   "cell_type": "markdown",
   "metadata": {},
   "source": [
    "From [the paper](https://arxiv.org/abs/1607.08022): "
   ]
  },
  {
   "cell_type": "markdown",
   "metadata": {},
   "source": [
    "The key difference between **contrast** and batch normalization is that the latter applies the normalization to a  whole batch of images instead for single ones:\n",
    "\n",
    "\\begin{equation}\\label{eq:bnorm}\n",
    "    y_{tijk} =  \\frac{x_{tijk} - \\mu_{i}}{\\sqrt{\\sigma_i^2 + \\epsilon}},\n",
    "    \\quad\n",
    "    \\mu_i = \\frac{1}{HWT}\\sum_{t=1}^T\\sum_{l=1}^W \\sum_{m=1}^H x_{tilm},\n",
    "    \\quad\n",
    "    \\sigma_i^2 = \\frac{1}{HWT}\\sum_{t=1}^T\\sum_{l=1}^W \\sum_{m=1}^H (x_{tilm} - mu_i)^2.\n",
    "\\end{equation}\n",
    "\n",
    "In order to combine the effects of instance-specific normalization and batch normalization, we propose to replace the latter by the *instance normalization* (also known as *contrast normalization*) layer:\n",
    "\n",
    "\\begin{equation}\\label{eq:inorm}\n",
    "    y_{tijk} =  \\frac{x_{tijk} - \\mu_{ti}}{\\sqrt{\\sigma_{ti}^2 + \\epsilon}},\n",
    "    \\quad\n",
    "    \\mu_{ti} = \\frac{1}{HW}\\sum_{l=1}^W \\sum_{m=1}^H x_{tilm},\n",
    "    \\quad\n",
    "    \\sigma_{ti}^2 = \\frac{1}{HW}\\sum_{l=1}^W \\sum_{m=1}^H (x_{tilm} - mu_{ti})^2.\n",
    "\\end{equation}"
   ]
  },
  {
   "cell_type": "code",
   "execution_count": 46,
   "metadata": {},
   "outputs": [],
   "source": [
    "class InstanceNorm(nn.Module):\n",
    "    __constants__ = ['eps']\n",
    "    def __init__(self, nf, eps=1e-0):\n",
    "        super().__init__()\n",
    "        self.eps = eps\n",
    "        self.mults = nn.Parameter(torch.ones (nf,1,1))\n",
    "        self.adds  = nn.Parameter(torch.zeros(nf,1,1))\n",
    "\n",
    "    def forward(self, x):\n",
    "\n",
    "        m = x.mean((2,3), keepdim=True)\n",
    "        v = x.var ((2,3), keepdim=True)\n",
    "        res = (x-m) / ((v+self.eps).sqrt())\n",
    "        return res*self.mults + self.adds"
   ]
  },
  {
   "cell_type": "code",
   "execution_count": 47,
   "metadata": {},
   "outputs": [],
   "source": [
    "def conv_in(ni, nf, ks=3, stride=2, bn=True, **kwargs):\n",
    "    layers = [nn.Conv2d(ni, nf, ks, padding=ks//2, stride=stride, bias=True),\n",
    "              GeneralRelu(**kwargs)]\n",
    "    if bn: \n",
    "        layers.append(InstanceNorm(nf))\n",
    "    return nn.Sequential(*layers)"
   ]
  },
  {
   "cell_type": "code",
   "execution_count": 48,
   "metadata": {},
   "outputs": [
    {
     "name": "stdout",
     "output_type": "stream",
     "text": [
      "get_learn_run model: Sequential(\n",
      "  (0): Sequential(\n",
      "    (0): Conv2d(1, 8, kernel_size=(5, 5), stride=(2, 2), padding=(2, 2))\n",
      "    (1): GeneralRelu()\n",
      "    (2): InstanceNorm()\n",
      "  )\n",
      "  (1): Sequential(\n",
      "    (0): Conv2d(8, 16, kernel_size=(3, 3), stride=(2, 2), padding=(1, 1))\n",
      "    (1): GeneralRelu()\n",
      "    (2): InstanceNorm()\n",
      "  )\n",
      "  (2): Sequential(\n",
      "    (0): Conv2d(16, 32, kernel_size=(3, 3), stride=(2, 2), padding=(1, 1))\n",
      "    (1): GeneralRelu()\n",
      "    (2): InstanceNorm()\n",
      "  )\n",
      "  (3): Sequential(\n",
      "    (0): Conv2d(32, 64, kernel_size=(3, 3), stride=(2, 2), padding=(1, 1))\n",
      "    (1): GeneralRelu()\n",
      "    (2): InstanceNorm()\n",
      "  )\n",
      "  (4): Sequential(\n",
      "    (0): Conv2d(64, 64, kernel_size=(3, 3), stride=(2, 2), padding=(1, 1))\n",
      "    (1): GeneralRelu()\n",
      "    (2): InstanceNorm()\n",
      "  )\n",
      "  (5): AdaptiveAvgPool2d(output_size=1)\n",
      "  (6): Lambda()\n",
      "  (7): Linear(in_features=64, out_features=10, bias=True)\n",
      ")\n",
      "init_cnn uniform: False\n",
      "init_cnn_\n",
      "init_cnn_\n",
      "init_cnn_\n",
      "init_cnn_ nn.Conv2d model\n",
      "init_cnn_\n",
      "init_cnn_\n",
      "init_cnn_\n",
      "init_cnn_\n",
      "init_cnn_ nn.Conv2d model\n",
      "init_cnn_\n",
      "init_cnn_\n",
      "init_cnn_\n",
      "init_cnn_\n",
      "init_cnn_ nn.Conv2d model\n",
      "init_cnn_\n",
      "init_cnn_\n",
      "init_cnn_\n",
      "init_cnn_\n",
      "init_cnn_ nn.Conv2d model\n",
      "init_cnn_\n",
      "init_cnn_\n",
      "init_cnn_\n",
      "init_cnn_\n",
      "init_cnn_ nn.Conv2d model\n",
      "init_cnn_\n",
      "init_cnn_\n",
      "init_cnn_\n",
      "init_cnn_\n",
      "init_cnn_\n"
     ]
    }
   ],
   "source": [
    "learn,run = get_learn_run(nfs, data, 0.1, conv_in, cbs=cbfs)"
   ]
  },
  {
   "cell_type": "code",
   "execution_count": 49,
   "metadata": {},
   "outputs": [
    {
     "name": "stdout",
     "output_type": "stream",
     "text": [
      "train: [nan, tensor(0.0986, device='cuda:0')]\n",
      "valid: [nan, tensor(0.0991, device='cuda:0')]\n",
      "train: [nan, tensor(0.0986, device='cuda:0')]\n",
      "valid: [nan, tensor(0.0991, device='cuda:0')]\n",
      "train: [nan, tensor(0.0986, device='cuda:0')]\n",
      "valid: [nan, tensor(0.0991, device='cuda:0')]\n",
      "CPU times: user 4.72 s, sys: 33.2 ms, total: 4.75 s\n",
      "Wall time: 4.75 s\n"
     ]
    }
   ],
   "source": [
    "%time run.fit(3, learn)"
   ]
  },
  {
   "cell_type": "markdown",
   "metadata": {},
   "source": [
    "*Question*: why can't this classify anything?"
   ]
  },
  {
   "cell_type": "markdown",
   "metadata": {},
   "source": [
    "<pre>\n",
    "BN: averge over batch, h, w and different for each channel\n",
    "LN: averge over channel, h, w and different for each batch\n",
    "IN: averge over h, w and different for each batch and each channel\n",
    "GN: as IN but arbitrarily group a few channels together - more general\n",
    "</pre>"
   ]
  },
  {
   "cell_type": "markdown",
   "metadata": {},
   "source": [
    "Lost in all those norms? The authors from the [group norm paper](https://arxiv.org/pdf/1803.08494.pdf) have you covered:\n",
    "\n",
    "![Various norms](images/norms.png)"
   ]
  },
  {
   "cell_type": "markdown",
   "metadata": {},
   "source": [
    "### Group norm"
   ]
  },
  {
   "cell_type": "markdown",
   "metadata": {},
   "source": [
    "*From the PyTorch docs:*"
   ]
  },
  {
   "cell_type": "markdown",
   "metadata": {},
   "source": [
    "`GroupNorm(num_groups, num_channels, eps=1e-5, affine=True)`\n",
    "\n",
    "The input channels are separated into `num_groups` groups, each containing\n",
    "``num_channels / num_groups`` channels. The mean and standard-deviation are calculated\n",
    "separately over the each group. $\\gamma$ and $\\beta$ are learnable\n",
    "per-channel affine transform parameter vectors of size `num_channels` if\n",
    "`affine` is `True`.\n",
    "\n",
    "This layer uses statistics computed from input data in both training and\n",
    "evaluation modes.\n",
    "\n",
    "Args:\n",
    "-    `num_groups (int)`: number of groups to separate the channels into\n",
    "-    `num_channels (int)`: number of channels expected in input\n",
    "-    `eps`: a value added to the denominator for numerical stability. Default: `1e-5`\n",
    "-    `affine`: a boolean value that when set to ``True``, this module\n",
    "        has learnable per-channel affine parameters initialized to ones (for weights)\n",
    "        and zeros (for biases). Default: ``True``.\n",
    "\n",
    "Shape:\n",
    "- Input: `(N, num_channels, *)`\n",
    "- Output: `(N, num_channels, *)` (same shape as input)\n",
    "\n",
    "Examples::\n",
    "\n",
    "    >>> input = torch.randn(20, 6, 10, 10)\n",
    "    >>> # Separate 6 channels into 3 groups\n",
    "    >>> m = nn.GroupNorm(3, 6)\n",
    "    >>> # Separate 6 channels into 6 groups (equivalent with InstanceNorm)\n",
    "    >>> m = nn.GroupNorm(6, 6)\n",
    "    >>> # Put all 6 channels into a single group (equivalent with LayerNorm)\n",
    "    >>> m = nn.GroupNorm(1, 6)\n",
    "    >>> # Activating the module\n",
    "    >>> output = m(input)"
   ]
  },
  {
   "cell_type": "markdown",
   "metadata": {},
   "source": [
    "## Fix small batch sizes"
   ]
  },
  {
   "cell_type": "markdown",
   "metadata": {},
   "source": [
    "### What's the problem?"
   ]
  },
  {
   "cell_type": "markdown",
   "metadata": {},
   "source": [
    "When we compute the statistics (mean and std) for a BatchNorm Layer on a small batch, it is possible that we get a standard deviation very close to 0. because there aren't many samples (the variance of one thing is 0. since it's equal to its mean)."
   ]
  },
  {
   "cell_type": "code",
   "execution_count": 50,
   "metadata": {},
   "outputs": [],
   "source": [
    "data = DataBunch(*get_dls(train_ds, valid_ds, 2), c)"
   ]
  },
  {
   "cell_type": "code",
   "execution_count": 51,
   "metadata": {},
   "outputs": [],
   "source": [
    "def conv_layer(ni, nf, ks=3, stride=2, bn=True, **kwargs):\n",
    "    layers = [nn.Conv2d(ni, nf, ks, padding=ks//2, stride=stride, bias=not bn),\n",
    "              GeneralRelu(**kwargs)]\n",
    "    if bn: \n",
    "        layers.append(nn.BatchNorm2d(nf, eps=1e-5, momentum=0.1))\n",
    "    return nn.Sequential(*layers)"
   ]
  },
  {
   "cell_type": "code",
   "execution_count": 52,
   "metadata": {},
   "outputs": [
    {
     "name": "stdout",
     "output_type": "stream",
     "text": [
      "get_learn_run model: Sequential(\n",
      "  (0): Sequential(\n",
      "    (0): Conv2d(1, 8, kernel_size=(5, 5), stride=(2, 2), padding=(2, 2), bias=False)\n",
      "    (1): GeneralRelu()\n",
      "    (2): BatchNorm2d(8, eps=1e-05, momentum=0.1, affine=True, track_running_stats=True)\n",
      "  )\n",
      "  (1): Sequential(\n",
      "    (0): Conv2d(8, 16, kernel_size=(3, 3), stride=(2, 2), padding=(1, 1), bias=False)\n",
      "    (1): GeneralRelu()\n",
      "    (2): BatchNorm2d(16, eps=1e-05, momentum=0.1, affine=True, track_running_stats=True)\n",
      "  )\n",
      "  (2): Sequential(\n",
      "    (0): Conv2d(16, 32, kernel_size=(3, 3), stride=(2, 2), padding=(1, 1), bias=False)\n",
      "    (1): GeneralRelu()\n",
      "    (2): BatchNorm2d(32, eps=1e-05, momentum=0.1, affine=True, track_running_stats=True)\n",
      "  )\n",
      "  (3): Sequential(\n",
      "    (0): Conv2d(32, 64, kernel_size=(3, 3), stride=(2, 2), padding=(1, 1), bias=False)\n",
      "    (1): GeneralRelu()\n",
      "    (2): BatchNorm2d(64, eps=1e-05, momentum=0.1, affine=True, track_running_stats=True)\n",
      "  )\n",
      "  (4): Sequential(\n",
      "    (0): Conv2d(64, 64, kernel_size=(3, 3), stride=(2, 2), padding=(1, 1), bias=False)\n",
      "    (1): GeneralRelu()\n",
      "    (2): BatchNorm2d(64, eps=1e-05, momentum=0.1, affine=True, track_running_stats=True)\n",
      "  )\n",
      "  (5): AdaptiveAvgPool2d(output_size=1)\n",
      "  (6): Lambda()\n",
      "  (7): Linear(in_features=64, out_features=10, bias=True)\n",
      ")\n",
      "init_cnn uniform: False\n",
      "init_cnn_\n",
      "init_cnn_\n",
      "init_cnn_\n",
      "init_cnn_ nn.Conv2d model\n",
      "init_cnn_\n",
      "init_cnn_\n",
      "init_cnn_\n",
      "init_cnn_\n",
      "init_cnn_ nn.Conv2d model\n",
      "init_cnn_\n",
      "init_cnn_\n",
      "init_cnn_\n",
      "init_cnn_\n",
      "init_cnn_ nn.Conv2d model\n",
      "init_cnn_\n",
      "init_cnn_\n",
      "init_cnn_\n",
      "init_cnn_\n",
      "init_cnn_ nn.Conv2d model\n",
      "init_cnn_\n",
      "init_cnn_\n",
      "init_cnn_\n",
      "init_cnn_\n",
      "init_cnn_ nn.Conv2d model\n",
      "init_cnn_\n",
      "init_cnn_\n",
      "init_cnn_\n",
      "init_cnn_\n",
      "init_cnn_\n"
     ]
    }
   ],
   "source": [
    "learn,run = get_learn_run(nfs, data, 0.4, conv_layer, cbs=cbfs)"
   ]
  },
  {
   "cell_type": "code",
   "execution_count": 53,
   "metadata": {},
   "outputs": [
    {
     "name": "stdout",
     "output_type": "stream",
     "text": [
      "train: [2.33894296875, tensor(0.1822, device='cuda:0')]\n",
      "valid: [45261.0944, tensor(0.2632, device='cuda:0')]\n",
      "CPU times: user 2min 15s, sys: 1.24 s, total: 2min 16s\n",
      "Wall time: 2min 16s\n"
     ]
    }
   ],
   "source": [
    "%time run.fit(1, learn)"
   ]
  },
  {
   "cell_type": "markdown",
   "metadata": {},
   "source": [
    "### Running Batch Norm"
   ]
  },
  {
   "cell_type": "markdown",
   "metadata": {},
   "source": [
    "To solve this problem we introduce a Running BatchNorm that uses smoother running mean and variance for the mean and std.\n",
    "\n",
    "1st true soln to small bs problem"
   ]
  },
  {
   "cell_type": "code",
   "execution_count": 33,
   "metadata": {},
   "outputs": [],
   "source": [
    "class RunningBatchNorm(nn.Module):\n",
    "    def __init__(self, nf, mom=0.1, eps=1e-5):\n",
    "        super().__init__()\n",
    "        self.mom,self.eps = mom,eps\n",
    "        self.mults = nn.Parameter(torch.ones (nf,1,1))\n",
    "        self.adds = nn.Parameter(torch.zeros(nf,1,1))\n",
    "        self.register_buffer('sums', torch.zeros(1,nf,1,1))\n",
    "        self.register_buffer('sqrs', torch.zeros(1,nf,1,1))\n",
    "        self.register_buffer('batch', tensor(0.))\n",
    "        self.register_buffer('count', tensor(0.))\n",
    "        self.register_buffer('step', tensor(0.))\n",
    "        self.register_buffer('dbias', tensor(0.))\n",
    "\n",
    "    def update_stats(self, x):\n",
    "        bs,nc,*_ = x.shape\n",
    "        self.sums.detach_()\n",
    "        self.sqrs.detach_()\n",
    "        dims = (0,2,3)\n",
    "        s = x.sum(dims, keepdim=True)\n",
    "        ss = (x*x).sum(dims, keepdim=True)\n",
    "        #(total num elements in minibatch) /(number pof channels)\n",
    "        c = self.count.new_tensor(x.numel()/nc)\n",
    "        mom1 = 1 - (1-self.mom)/math.sqrt(bs-1)\n",
    "        self.mom1 = self.dbias.new_tensor(mom1)\n",
    "        self.sums.lerp_(s, self.mom1)\n",
    "        self.sqrs.lerp_(ss, self.mom1)\n",
    "        self.count.lerp_(c, self.mom1)\n",
    "        self.dbias = self.dbias*(1-self.mom1) + self.mom1\n",
    "        self.batch += bs\n",
    "        self.step += 1\n",
    "\n",
    "    def forward(self, x):\n",
    "        #don div by batch std dev - use tt as well\n",
    "        if self.training: self.update_stats(x)\n",
    "        sums = self.sums\n",
    "        sqrs = self.sqrs\n",
    "        c = self.count\n",
    "        if self.step<100:\n",
    "            sums = sums / self.dbias\n",
    "            sqrs = sqrs / self.dbias\n",
    "            c    = c    / self.dbias\n",
    "        means = sums/c\n",
    "        #sqaures/counts minus means squared\n",
    "        #see 5a_foundations (lesson 10)\n",
    "        vars = (sqrs/c).sub_(means*means)\n",
    "        if bool(self.batch < 20): vars.clamp_min_(0.01)\n",
    "        x = (x-means).div_((vars.add_(self.eps)).sqrt())\n",
    "        return x.mul_(self.mults).add_(self.adds)"
   ]
  },
  {
   "cell_type": "markdown",
   "metadata": {},
   "source": [
    "NB: the calculation of `self.dbias` in the version in the lesson video was incorrect. The correct version is in the cell above. Also, we changed how we calculated `self.mom1` to something that it more mathematically appropriate. These two changes improved the accuracy from 91% (in the video) to 97%+ (shown below)!"
   ]
  },
  {
   "cell_type": "code",
   "execution_count": 34,
   "metadata": {},
   "outputs": [],
   "source": [
    "def conv_rbn(ni, nf, ks=3, stride=2, bn=True, **kwargs):\n",
    "    layers = [nn.Conv2d(ni, nf, ks, padding=ks//2, stride=stride, bias=not bn),\n",
    "              GeneralRelu(**kwargs)]\n",
    "    if bn: layers.append(RunningBatchNorm(nf))\n",
    "    return nn.Sequential(*layers)"
   ]
  },
  {
   "cell_type": "code",
   "execution_count": 37,
   "metadata": {},
   "outputs": [
    {
     "name": "stdout",
     "output_type": "stream",
     "text": [
      "get_learn_run model: Sequential(\n",
      "  (0): Sequential(\n",
      "    (0): Conv2d(1, 8, kernel_size=(5, 5), stride=(2, 2), padding=(2, 2), bias=False)\n",
      "    (1): GeneralRelu()\n",
      "    (2): RunningBatchNorm()\n",
      "  )\n",
      "  (1): Sequential(\n",
      "    (0): Conv2d(8, 16, kernel_size=(3, 3), stride=(2, 2), padding=(1, 1), bias=False)\n",
      "    (1): GeneralRelu()\n",
      "    (2): RunningBatchNorm()\n",
      "  )\n",
      "  (2): Sequential(\n",
      "    (0): Conv2d(16, 32, kernel_size=(3, 3), stride=(2, 2), padding=(1, 1), bias=False)\n",
      "    (1): GeneralRelu()\n",
      "    (2): RunningBatchNorm()\n",
      "  )\n",
      "  (3): Sequential(\n",
      "    (0): Conv2d(32, 64, kernel_size=(3, 3), stride=(2, 2), padding=(1, 1), bias=False)\n",
      "    (1): GeneralRelu()\n",
      "    (2): RunningBatchNorm()\n",
      "  )\n",
      "  (4): Sequential(\n",
      "    (0): Conv2d(64, 64, kernel_size=(3, 3), stride=(2, 2), padding=(1, 1), bias=False)\n",
      "    (1): GeneralRelu()\n",
      "    (2): RunningBatchNorm()\n",
      "  )\n",
      "  (5): AdaptiveAvgPool2d(output_size=1)\n",
      "  (6): Lambda()\n",
      "  (7): Linear(in_features=64, out_features=10, bias=True)\n",
      ")\n",
      "init_cnn uniform: False\n",
      "init_cnn_\n",
      "init_cnn_\n",
      "init_cnn_\n",
      "init_cnn_ nn.Conv2d model\n",
      "init_cnn_\n",
      "init_cnn_\n",
      "init_cnn_\n",
      "init_cnn_\n",
      "init_cnn_ nn.Conv2d model\n",
      "init_cnn_\n",
      "init_cnn_\n",
      "init_cnn_\n",
      "init_cnn_\n",
      "init_cnn_ nn.Conv2d model\n",
      "init_cnn_\n",
      "init_cnn_\n",
      "init_cnn_\n",
      "init_cnn_\n",
      "init_cnn_ nn.Conv2d model\n",
      "init_cnn_\n",
      "init_cnn_\n",
      "init_cnn_\n",
      "init_cnn_\n",
      "init_cnn_ nn.Conv2d model\n",
      "init_cnn_\n",
      "init_cnn_\n",
      "init_cnn_\n",
      "init_cnn_\n",
      "init_cnn_\n"
     ]
    }
   ],
   "source": [
    "learn,run = get_learn_run(nfs, data, 0.4, conv_rbn, cbs=cbfs)"
   ]
  },
  {
   "cell_type": "code",
   "execution_count": 38,
   "metadata": {},
   "outputs": [
    {
     "name": "stdout",
     "output_type": "stream",
     "text": [
      "train: [0.3915116015625, tensor(0.8984, device='cuda:0')]\n",
      "valid: [0.20024395751953125, tensor(0.9577, device='cuda:0')]\n",
      "CPU times: user 5min 39s, sys: 1.86 s, total: 5min 41s\n",
      "Wall time: 5min 42s\n"
     ]
    }
   ],
   "source": [
    "%time run.fit(1, learn)"
   ]
  },
  {
   "cell_type": "markdown",
   "metadata": {},
   "source": [
    "This solves the small batch size issue!"
   ]
  },
  {
   "cell_type": "markdown",
   "metadata": {},
   "source": [
    "### What can we do in a single epoch?"
   ]
  },
  {
   "cell_type": "markdown",
   "metadata": {},
   "source": [
    "Now let's see with a decent batch size what result we can get."
   ]
  },
  {
   "cell_type": "code",
   "execution_count": 39,
   "metadata": {},
   "outputs": [],
   "source": [
    "data = DataBunch(*get_dls(train_ds, valid_ds, 32), c)"
   ]
  },
  {
   "cell_type": "code",
   "execution_count": 40,
   "metadata": {},
   "outputs": [
    {
     "name": "stdout",
     "output_type": "stream",
     "text": [
      "get_learn_run model: Sequential(\n",
      "  (0): Sequential(\n",
      "    (0): Conv2d(1, 8, kernel_size=(5, 5), stride=(2, 2), padding=(2, 2), bias=False)\n",
      "    (1): GeneralRelu()\n",
      "    (2): RunningBatchNorm()\n",
      "  )\n",
      "  (1): Sequential(\n",
      "    (0): Conv2d(8, 16, kernel_size=(3, 3), stride=(2, 2), padding=(1, 1), bias=False)\n",
      "    (1): GeneralRelu()\n",
      "    (2): RunningBatchNorm()\n",
      "  )\n",
      "  (2): Sequential(\n",
      "    (0): Conv2d(16, 32, kernel_size=(3, 3), stride=(2, 2), padding=(1, 1), bias=False)\n",
      "    (1): GeneralRelu()\n",
      "    (2): RunningBatchNorm()\n",
      "  )\n",
      "  (3): Sequential(\n",
      "    (0): Conv2d(32, 64, kernel_size=(3, 3), stride=(2, 2), padding=(1, 1), bias=False)\n",
      "    (1): GeneralRelu()\n",
      "    (2): RunningBatchNorm()\n",
      "  )\n",
      "  (4): Sequential(\n",
      "    (0): Conv2d(64, 64, kernel_size=(3, 3), stride=(2, 2), padding=(1, 1), bias=False)\n",
      "    (1): GeneralRelu()\n",
      "    (2): RunningBatchNorm()\n",
      "  )\n",
      "  (5): AdaptiveAvgPool2d(output_size=1)\n",
      "  (6): Lambda()\n",
      "  (7): Linear(in_features=64, out_features=10, bias=True)\n",
      ")\n",
      "init_cnn uniform: False\n",
      "init_cnn_\n",
      "init_cnn_\n",
      "init_cnn_\n",
      "init_cnn_ nn.Conv2d model\n",
      "init_cnn_\n",
      "init_cnn_\n",
      "init_cnn_\n",
      "init_cnn_\n",
      "init_cnn_ nn.Conv2d model\n",
      "init_cnn_\n",
      "init_cnn_\n",
      "init_cnn_\n",
      "init_cnn_\n",
      "init_cnn_ nn.Conv2d model\n",
      "init_cnn_\n",
      "init_cnn_\n",
      "init_cnn_\n",
      "init_cnn_\n",
      "init_cnn_ nn.Conv2d model\n",
      "init_cnn_\n",
      "init_cnn_\n",
      "init_cnn_\n",
      "init_cnn_\n",
      "init_cnn_ nn.Conv2d model\n",
      "init_cnn_\n",
      "init_cnn_\n",
      "init_cnn_\n",
      "init_cnn_\n",
      "init_cnn_\n"
     ]
    }
   ],
   "source": [
    "learn,run = get_learn_run(nfs, data, 0.8, conv_rbn, cbs=cbfs\n",
    "                          +[partial(ParamScheduler,'lr', sched_lin(1., 0.2))])"
   ]
  },
  {
   "cell_type": "code",
   "execution_count": 41,
   "metadata": {},
   "outputs": [
    {
     "name": "stdout",
     "output_type": "stream",
     "text": [
      "train: [0.154582412109375, tensor(0.9520, device='cuda:0')]\n",
      "valid: [0.1290742431640625, tensor(0.9715, device='cuda:0')]\n",
      "CPU times: user 22 s, sys: 112 ms, total: 22.2 s\n",
      "Wall time: 22.2 s\n"
     ]
    }
   ],
   "source": [
    "%time run.fit(1, learn)"
   ]
  },
  {
   "cell_type": "markdown",
   "metadata": {},
   "source": [
    "### Simplified RunningBatchNorm"
   ]
  },
  {
   "cell_type": "markdown",
   "metadata": {},
   "source": [
    "It turns out we don't actually need to debias - because, for instance, dividing a debiased sum by a debiased count is the same as dividing a *biased* sum by a *biased* count! So we can remove all the debiasing stuff and end up with a simpler class. Also, we should save `eps` as a buffer since it impacts the calculation. (Thanks to Stas Bekman for noticing these.) Also we can slightly change the final calculation in `forward` with one that uses `factor` and `offset` to reduce the amount of broadcasting required. (Thanks to Tom Viehmann for this suggestion.)"
   ]
  },
  {
   "cell_type": "code",
   "execution_count": 42,
   "metadata": {},
   "outputs": [],
   "source": [
    "#export\n",
    "class RunningBatchNorm(nn.Module):\n",
    "    def __init__(self, nf, mom=0.1, eps=1e-5):\n",
    "        super().__init__()\n",
    "        self.mom, self.eps = mom, eps\n",
    "        self.mults = nn.Parameter(torch.ones (nf,1,1))\n",
    "        self.adds  = nn.Parameter(torch.zeros(nf,1,1))\n",
    "        self.register_buffer('sums', torch.zeros(1,nf,1,1))\n",
    "        self.register_buffer('sqrs', torch.zeros(1,nf,1,1))\n",
    "        self.register_buffer('count', tensor(0.))\n",
    "        self.register_buffer('factor', tensor(0.))\n",
    "        self.register_buffer('offset', tensor(0.))\n",
    "        self.batch = 0\n",
    "        \n",
    "    def update_stats(self, x):\n",
    "        bs,nc,*_ = x.shape\n",
    "        self.sums.detach_()\n",
    "        self.sqrs.detach_()\n",
    "        dims = (0,2,3)\n",
    "        s    = x    .sum(dims, keepdim=True)\n",
    "        ss   = (x*x).sum(dims, keepdim=True)\n",
    "        c    = s.new_tensor(x.numel()/nc)\n",
    "        mom1 = s.new_tensor(1 - (1-self.mom)/math.sqrt(bs-1))\n",
    "        self.sums .lerp_(s , mom1)\n",
    "        self.sqrs .lerp_(ss, mom1)\n",
    "        self.count.lerp_(c , mom1)\n",
    "        self.batch += bs\n",
    "        means = self.sums/self.count\n",
    "        varns = (self.sqrs/self.count).sub_(means*means)\n",
    "        if bool(self.batch < 20): varns.clamp_min_(0.01)\n",
    "        self.factor = self.mults / (varns+self.eps).sqrt()\n",
    "        self.offset = self.adds - means*self.factor\n",
    "        \n",
    "    def forward(self, x):\n",
    "        if self.training: self.update_stats(x)\n",
    "        return x*self.factor + self.offset"
   ]
  },
  {
   "cell_type": "code",
   "execution_count": 43,
   "metadata": {},
   "outputs": [
    {
     "name": "stdout",
     "output_type": "stream",
     "text": [
      "get_learn_run model: Sequential(\n",
      "  (0): Sequential(\n",
      "    (0): Conv2d(1, 8, kernel_size=(5, 5), stride=(2, 2), padding=(2, 2), bias=False)\n",
      "    (1): GeneralRelu()\n",
      "    (2): RunningBatchNorm()\n",
      "  )\n",
      "  (1): Sequential(\n",
      "    (0): Conv2d(8, 16, kernel_size=(3, 3), stride=(2, 2), padding=(1, 1), bias=False)\n",
      "    (1): GeneralRelu()\n",
      "    (2): RunningBatchNorm()\n",
      "  )\n",
      "  (2): Sequential(\n",
      "    (0): Conv2d(16, 32, kernel_size=(3, 3), stride=(2, 2), padding=(1, 1), bias=False)\n",
      "    (1): GeneralRelu()\n",
      "    (2): RunningBatchNorm()\n",
      "  )\n",
      "  (3): Sequential(\n",
      "    (0): Conv2d(32, 64, kernel_size=(3, 3), stride=(2, 2), padding=(1, 1), bias=False)\n",
      "    (1): GeneralRelu()\n",
      "    (2): RunningBatchNorm()\n",
      "  )\n",
      "  (4): Sequential(\n",
      "    (0): Conv2d(64, 64, kernel_size=(3, 3), stride=(2, 2), padding=(1, 1), bias=False)\n",
      "    (1): GeneralRelu()\n",
      "    (2): RunningBatchNorm()\n",
      "  )\n",
      "  (5): AdaptiveAvgPool2d(output_size=1)\n",
      "  (6): Lambda()\n",
      "  (7): Linear(in_features=64, out_features=10, bias=True)\n",
      ")\n",
      "init_cnn uniform: False\n",
      "init_cnn_\n",
      "init_cnn_\n",
      "init_cnn_\n",
      "init_cnn_ nn.Conv2d model\n",
      "init_cnn_\n",
      "init_cnn_\n",
      "init_cnn_\n",
      "init_cnn_\n",
      "init_cnn_ nn.Conv2d model\n",
      "init_cnn_\n",
      "init_cnn_\n",
      "init_cnn_\n",
      "init_cnn_\n",
      "init_cnn_ nn.Conv2d model\n",
      "init_cnn_\n",
      "init_cnn_\n",
      "init_cnn_\n",
      "init_cnn_\n",
      "init_cnn_ nn.Conv2d model\n",
      "init_cnn_\n",
      "init_cnn_\n",
      "init_cnn_\n",
      "init_cnn_\n",
      "init_cnn_ nn.Conv2d model\n",
      "init_cnn_\n",
      "init_cnn_\n",
      "init_cnn_\n",
      "init_cnn_\n",
      "init_cnn_\n"
     ]
    }
   ],
   "source": [
    "learn,run = get_learn_run(nfs, data, 0.8, conv_rbn, cbs=cbfs\n",
    "                          +[partial(ParamScheduler,'lr', sched_lin(1., 0.2))])"
   ]
  },
  {
   "cell_type": "code",
   "execution_count": 44,
   "metadata": {},
   "outputs": [
    {
     "name": "stdout",
     "output_type": "stream",
     "text": [
      "train: [0.1703979296875, tensor(0.9470, device='cuda:0')]\n",
      "valid: [0.08865293579101563, tensor(0.9756, device='cuda:0')]\n",
      "CPU times: user 19.5 s, sys: 80.2 ms, total: 19.6 s\n",
      "Wall time: 19.6 s\n"
     ]
    }
   ],
   "source": [
    "%time run.fit(1, learn)"
   ]
  },
  {
   "cell_type": "markdown",
   "metadata": {},
   "source": [
    "## Export"
   ]
  },
  {
   "cell_type": "code",
   "execution_count": 45,
   "metadata": {},
   "outputs": [],
   "source": [
    "#nb_auto_export()"
   ]
  },
  {
   "cell_type": "code",
   "execution_count": null,
   "metadata": {},
   "outputs": [],
   "source": []
  }
 ],
 "metadata": {
  "kernelspec": {
   "display_name": "Python 3",
   "language": "python",
   "name": "python3"
  },
  "language_info": {
   "codemirror_mode": {
    "name": "ipython",
    "version": 3
   },
   "file_extension": ".py",
   "mimetype": "text/x-python",
   "name": "python",
   "nbconvert_exporter": "python",
   "pygments_lexer": "ipython3",
   "version": "3.7.3"
  }
 },
 "nbformat": 4,
 "nbformat_minor": 2
}
